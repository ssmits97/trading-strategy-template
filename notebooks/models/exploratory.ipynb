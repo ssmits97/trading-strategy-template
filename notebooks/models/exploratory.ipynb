{
 "cells": [
  {
   "cell_type": "markdown",
   "id": "36e12a08-a35f-46c5-8e3a-f8b5990469bc",
   "metadata": {},
   "source": [
    "# S&P500 Exploratory models\n",
    "\n",
    "We are interested in predicting return, let's see what works best.\n",
    "Starting of with a simple linear regression"
   ]
  },
  {
   "cell_type": "code",
   "execution_count": 23,
   "id": "cb2ebec5-6332-4be1-a828-f8375573cb4f",
   "metadata": {},
   "outputs": [],
   "source": [
    "import pickle\n",
    "\n",
    "import pandas as pd\n",
    "import statsmodels.api as sm"
   ]
  },
  {
   "cell_type": "code",
   "execution_count": 43,
   "id": "9f530187-16cd-4f19-82fd-2debe566664d",
   "metadata": {},
   "outputs": [],
   "source": [
    "df = pd.read_csv('../../data/features/sp500_basics.csv', parse_dates=['Date'])\n",
    "df = df.set_index('Date')\n",
    "\n",
    "endo_column = 'returns'\n",
    "exo_columns = df.columns.to_list()\n",
    "exo_columns.remove(endo_column)\n",
    "\n",
    "n_obs = len(df.index)\n",
    "train_obs = int(n_obs*0.6)\n",
    "test_obs = n_obs - train_obs\n",
    "\n",
    "df[exo_columns] = df[exo_columns].shift(1)\n",
    "df_train = df.iloc[:train_obs]\n",
    "df_test = df.iloc[train_obs:]"
   ]
  },
  {
   "cell_type": "markdown",
   "id": "fb6a858d-f1a6-4a78-856d-5e1fc58d2d16",
   "metadata": {},
   "source": [
    "Start with a simple in-sample regression\n",
    "Standardize the features, add a constant, and drop na values"
   ]
  },
  {
   "cell_type": "code",
   "execution_count": 44,
   "id": "88a85336-37f3-4c2e-9bea-fecd5c208a89",
   "metadata": {},
   "outputs": [
    {
     "name": "stderr",
     "output_type": "stream",
     "text": [
      "C:\\Users\\Smits\\AppData\\Local\\Temp\\ipykernel_3988\\1961367046.py:1: SettingWithCopyWarning: \n",
      "A value is trying to be set on a copy of a slice from a DataFrame.\n",
      "Try using .loc[row_indexer,col_indexer] = value instead\n",
      "\n",
      "See the caveats in the documentation: https://pandas.pydata.org/pandas-docs/stable/user_guide/indexing.html#returning-a-view-versus-a-copy\n",
      "  df_train[exo_columns] = (df_train[exo_columns] - df_train[exo_columns].mean())/(df_train[exo_columns].std())\n"
     ]
    },
    {
     "data": {
      "text/html": [
       "<table class=\"simpletable\">\n",
       "<caption>OLS Regression Results</caption>\n",
       "<tr>\n",
       "  <th>Dep. Variable:</th>         <td>returns</td>     <th>  R-squared:         </th> <td>   0.030</td>\n",
       "</tr>\n",
       "<tr>\n",
       "  <th>Model:</th>                   <td>OLS</td>       <th>  Adj. R-squared:    </th> <td>   0.007</td>\n",
       "</tr>\n",
       "<tr>\n",
       "  <th>Method:</th>             <td>Least Squares</td>  <th>  F-statistic:       </th> <td>   1.289</td>\n",
       "</tr>\n",
       "<tr>\n",
       "  <th>Date:</th>             <td>Sat, 05 Aug 2023</td> <th>  Prob (F-statistic):</th>  <td> 0.281</td> \n",
       "</tr>\n",
       "<tr>\n",
       "  <th>Time:</th>                 <td>13:59:28</td>     <th>  Log-Likelihood:    </th> <td>  231.83</td>\n",
       "</tr>\n",
       "<tr>\n",
       "  <th>No. Observations:</th>      <td>   131</td>      <th>  AIC:               </th> <td>  -455.7</td>\n",
       "</tr>\n",
       "<tr>\n",
       "  <th>Df Residuals:</th>          <td>   127</td>      <th>  BIC:               </th> <td>  -444.2</td>\n",
       "</tr>\n",
       "<tr>\n",
       "  <th>Df Model:</th>              <td>     3</td>      <th>                     </th>     <td> </td>   \n",
       "</tr>\n",
       "<tr>\n",
       "  <th>Covariance Type:</th>      <td>nonrobust</td>    <th>                     </th>     <td> </td>   \n",
       "</tr>\n",
       "</table>\n",
       "<table class=\"simpletable\">\n",
       "<tr>\n",
       "            <td></td>              <th>coef</th>     <th>std err</th>      <th>t</th>      <th>P>|t|</th>  <th>[0.025</th>    <th>0.975]</th>  \n",
       "</tr>\n",
       "<tr>\n",
       "  <th>const</th>                <td>   -0.0001</td> <td>    0.004</td> <td>   -0.040</td> <td> 0.968</td> <td>   -0.007</td> <td>    0.007</td>\n",
       "</tr>\n",
       "<tr>\n",
       "  <th>logs</th>                 <td>   -0.0041</td> <td>    0.006</td> <td>   -0.665</td> <td> 0.507</td> <td>   -0.016</td> <td>    0.008</td>\n",
       "</tr>\n",
       "<tr>\n",
       "  <th>Consumer Price Index</th> <td>   -0.0016</td> <td>    0.007</td> <td>   -0.228</td> <td> 0.820</td> <td>   -0.015</td> <td>    0.012</td>\n",
       "</tr>\n",
       "<tr>\n",
       "  <th>Long Interest Rate</th>   <td>   -0.0046</td> <td>    0.009</td> <td>   -0.544</td> <td> 0.587</td> <td>   -0.022</td> <td>    0.012</td>\n",
       "</tr>\n",
       "</table>\n",
       "<table class=\"simpletable\">\n",
       "<tr>\n",
       "  <th>Omnibus:</th>       <td>44.515</td> <th>  Durbin-Watson:     </th> <td>   1.470</td>\n",
       "</tr>\n",
       "<tr>\n",
       "  <th>Prob(Omnibus):</th> <td> 0.000</td> <th>  Jarque-Bera (JB):  </th> <td> 122.712</td>\n",
       "</tr>\n",
       "<tr>\n",
       "  <th>Skew:</th>          <td>-1.298</td> <th>  Prob(JB):          </th> <td>2.26e-27</td>\n",
       "</tr>\n",
       "<tr>\n",
       "  <th>Kurtosis:</th>      <td> 6.968</td> <th>  Cond. No.          </th> <td>    4.42</td>\n",
       "</tr>\n",
       "</table><br/><br/>Notes:<br/>[1] Standard Errors assume that the covariance matrix of the errors is correctly specified."
      ],
      "text/latex": [
       "\\begin{center}\n",
       "\\begin{tabular}{lclc}\n",
       "\\toprule\n",
       "\\textbf{Dep. Variable:}       &     returns      & \\textbf{  R-squared:         } &     0.030   \\\\\n",
       "\\textbf{Model:}               &       OLS        & \\textbf{  Adj. R-squared:    } &     0.007   \\\\\n",
       "\\textbf{Method:}              &  Least Squares   & \\textbf{  F-statistic:       } &     1.289   \\\\\n",
       "\\textbf{Date:}                & Sat, 05 Aug 2023 & \\textbf{  Prob (F-statistic):} &    0.281    \\\\\n",
       "\\textbf{Time:}                &     13:59:28     & \\textbf{  Log-Likelihood:    } &    231.83   \\\\\n",
       "\\textbf{No. Observations:}    &         131      & \\textbf{  AIC:               } &    -455.7   \\\\\n",
       "\\textbf{Df Residuals:}        &         127      & \\textbf{  BIC:               } &    -444.2   \\\\\n",
       "\\textbf{Df Model:}            &           3      & \\textbf{                     } &             \\\\\n",
       "\\textbf{Covariance Type:}     &    nonrobust     & \\textbf{                     } &             \\\\\n",
       "\\bottomrule\n",
       "\\end{tabular}\n",
       "\\begin{tabular}{lcccccc}\n",
       "                              & \\textbf{coef} & \\textbf{std err} & \\textbf{t} & \\textbf{P$> |$t$|$} & \\textbf{[0.025} & \\textbf{0.975]}  \\\\\n",
       "\\midrule\n",
       "\\textbf{const}                &      -0.0001  &        0.004     &    -0.040  &         0.968        &       -0.007    &        0.007     \\\\\n",
       "\\textbf{logs}                 &      -0.0041  &        0.006     &    -0.665  &         0.507        &       -0.016    &        0.008     \\\\\n",
       "\\textbf{Consumer Price Index} &      -0.0016  &        0.007     &    -0.228  &         0.820        &       -0.015    &        0.012     \\\\\n",
       "\\textbf{Long Interest Rate}   &      -0.0046  &        0.009     &    -0.544  &         0.587        &       -0.022    &        0.012     \\\\\n",
       "\\bottomrule\n",
       "\\end{tabular}\n",
       "\\begin{tabular}{lclc}\n",
       "\\textbf{Omnibus:}       & 44.515 & \\textbf{  Durbin-Watson:     } &    1.470  \\\\\n",
       "\\textbf{Prob(Omnibus):} &  0.000 & \\textbf{  Jarque-Bera (JB):  } &  122.712  \\\\\n",
       "\\textbf{Skew:}          & -1.298 & \\textbf{  Prob(JB):          } & 2.26e-27  \\\\\n",
       "\\textbf{Kurtosis:}      &  6.968 & \\textbf{  Cond. No.          } &     4.42  \\\\\n",
       "\\bottomrule\n",
       "\\end{tabular}\n",
       "%\\caption{OLS Regression Results}\n",
       "\\end{center}\n",
       "\n",
       "Notes: \\newline\n",
       " [1] Standard Errors assume that the covariance matrix of the errors is correctly specified."
      ],
      "text/plain": [
       "<class 'statsmodels.iolib.summary.Summary'>\n",
       "\"\"\"\n",
       "                            OLS Regression Results                            \n",
       "==============================================================================\n",
       "Dep. Variable:                returns   R-squared:                       0.030\n",
       "Model:                            OLS   Adj. R-squared:                  0.007\n",
       "Method:                 Least Squares   F-statistic:                     1.289\n",
       "Date:                Sat, 05 Aug 2023   Prob (F-statistic):              0.281\n",
       "Time:                        13:59:28   Log-Likelihood:                 231.83\n",
       "No. Observations:                 131   AIC:                            -455.7\n",
       "Df Residuals:                     127   BIC:                            -444.2\n",
       "Df Model:                           3                                         \n",
       "Covariance Type:            nonrobust                                         \n",
       "========================================================================================\n",
       "                           coef    std err          t      P>|t|      [0.025      0.975]\n",
       "----------------------------------------------------------------------------------------\n",
       "const                   -0.0001      0.004     -0.040      0.968      -0.007       0.007\n",
       "logs                    -0.0041      0.006     -0.665      0.507      -0.016       0.008\n",
       "Consumer Price Index    -0.0016      0.007     -0.228      0.820      -0.015       0.012\n",
       "Long Interest Rate      -0.0046      0.009     -0.544      0.587      -0.022       0.012\n",
       "==============================================================================\n",
       "Omnibus:                       44.515   Durbin-Watson:                   1.470\n",
       "Prob(Omnibus):                  0.000   Jarque-Bera (JB):              122.712\n",
       "Skew:                          -1.298   Prob(JB):                     2.26e-27\n",
       "Kurtosis:                       6.968   Cond. No.                         4.42\n",
       "==============================================================================\n",
       "\n",
       "Notes:\n",
       "[1] Standard Errors assume that the covariance matrix of the errors is correctly specified.\n",
       "\"\"\""
      ]
     },
     "execution_count": 44,
     "metadata": {},
     "output_type": "execute_result"
    }
   ],
   "source": [
    "df_train[exo_columns] = (df_train[exo_columns] - df_train[exo_columns].mean())/(df_train[exo_columns].std())\n",
    "\n",
    "model = sm.OLS(df_train[endo_column], sm.add_constant(df_train[exo_columns]), missing='drop')\n",
    "fitted = model.fit()\n",
    "\n",
    "pickle.dump(fitted, open('../../models/simple_ols.pkl', 'wb'))\n",
    "fitted.summary()"
   ]
  },
  {
   "cell_type": "code",
   "execution_count": 48,
   "id": "a75459fb-8431-43bc-8ada-566787c94bca",
   "metadata": {},
   "outputs": [],
   "source": [
    "prediction = fitted.predict(sm.add_constant(df_test[exo_columns]))\n",
    "prediction.name = f'{endo_column}_pred'\n",
    "\n",
    "df_pred = pd.merge(df_test[endo_column], prediction, left_index=True, right_index=True)\n",
    "df_pred = df_pred.rename(columns={endo_column: f'{endo_column}_actual'})\n",
    "df_pred.to_csv('../../models/simple_ols.csv')"
   ]
  },
  {
   "cell_type": "markdown",
   "id": "c8ac62bd-611e-45e3-97ff-c68dd474914b",
   "metadata": {},
   "source": [
    "Our features do not hold any predictive value.\n",
    "We know that our returns are not normally distributed, we might try predicting the sign of the return and use a binary classifier"
   ]
  }
 ],
 "metadata": {
  "kernelspec": {
   "display_name": "Python 3 (ipykernel)",
   "language": "python",
   "name": "python3"
  },
  "language_info": {
   "codemirror_mode": {
    "name": "ipython",
    "version": 3
   },
   "file_extension": ".py",
   "mimetype": "text/x-python",
   "name": "python",
   "nbconvert_exporter": "python",
   "pygments_lexer": "ipython3",
   "version": "3.10.0"
  }
 },
 "nbformat": 4,
 "nbformat_minor": 5
}
